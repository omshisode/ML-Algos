{
  "nbformat": 4,
  "nbformat_minor": 0,
  "metadata": {
    "colab": {
      "provenance": []
    },
    "kernelspec": {
      "name": "python3",
      "display_name": "Python 3"
    },
    "language_info": {
      "name": "python"
    }
  },
  "cells": [
    {
      "cell_type": "code",
      "execution_count": 1,
      "metadata": {
        "id": "DcRtZ8hi3UVq"
      },
      "outputs": [],
      "source": [
        "import pandas as pd\n",
        "import numpy as np\n",
        "from sklearn import preprocessing"
      ]
    },
    {
      "cell_type": "code",
      "source": [
        "bank = pd.read_csv(r\"/content/bank.csv\",sep=\";\")"
      ],
      "metadata": {
        "id": "qNEE8yy63lv9"
      },
      "execution_count": 7,
      "outputs": []
    },
    {
      "cell_type": "code",
      "source": [
        "bank.head()"
      ],
      "metadata": {
        "colab": {
          "base_uri": "https://localhost:8080/",
          "height": 299
        },
        "id": "AeF7ci-v30Rq",
        "outputId": "9c738cc4-59ff-4ea4-9386-2c33831e7f41"
      },
      "execution_count": 8,
      "outputs": [
        {
          "output_type": "execute_result",
          "data": {
            "text/plain": [
              "   age        job  marital    education  default housing loan    contact  \\\n",
              "0   56  housemaid  married     basic.4y       no      no   no  telephone   \n",
              "1   57   services  married  high.school  unknown      no   no  telephone   \n",
              "2   37   services  married  high.school       no     yes   no  telephone   \n",
              "3   40     admin.  married     basic.6y       no      no   no  telephone   \n",
              "4   56   services  married  high.school       no      no  yes  telephone   \n",
              "\n",
              "  month day_of_week  ...  campaign  pdays  previous     poutcome emp.var.rate  \\\n",
              "0   may         mon  ...         1    999         0  nonexistent          1.1   \n",
              "1   may         mon  ...         1    999         0  nonexistent          1.1   \n",
              "2   may         mon  ...         1    999         0  nonexistent          1.1   \n",
              "3   may         mon  ...         1    999         0  nonexistent          1.1   \n",
              "4   may         mon  ...         1    999         0  nonexistent          1.1   \n",
              "\n",
              "   cons.price.idx  cons.conf.idx  euribor3m  nr.employed   y  \n",
              "0          93.994          -36.4      4.857       5191.0  no  \n",
              "1          93.994          -36.4      4.857       5191.0  no  \n",
              "2          93.994          -36.4      4.857       5191.0  no  \n",
              "3          93.994          -36.4      4.857       5191.0  no  \n",
              "4          93.994          -36.4      4.857       5191.0  no  \n",
              "\n",
              "[5 rows x 21 columns]"
            ],
            "text/html": [
              "\n",
              "  <div id=\"df-150c2071-701c-4fb1-be34-9a672a242282\">\n",
              "    <div class=\"colab-df-container\">\n",
              "      <div>\n",
              "<style scoped>\n",
              "    .dataframe tbody tr th:only-of-type {\n",
              "        vertical-align: middle;\n",
              "    }\n",
              "\n",
              "    .dataframe tbody tr th {\n",
              "        vertical-align: top;\n",
              "    }\n",
              "\n",
              "    .dataframe thead th {\n",
              "        text-align: right;\n",
              "    }\n",
              "</style>\n",
              "<table border=\"1\" class=\"dataframe\">\n",
              "  <thead>\n",
              "    <tr style=\"text-align: right;\">\n",
              "      <th></th>\n",
              "      <th>age</th>\n",
              "      <th>job</th>\n",
              "      <th>marital</th>\n",
              "      <th>education</th>\n",
              "      <th>default</th>\n",
              "      <th>housing</th>\n",
              "      <th>loan</th>\n",
              "      <th>contact</th>\n",
              "      <th>month</th>\n",
              "      <th>day_of_week</th>\n",
              "      <th>...</th>\n",
              "      <th>campaign</th>\n",
              "      <th>pdays</th>\n",
              "      <th>previous</th>\n",
              "      <th>poutcome</th>\n",
              "      <th>emp.var.rate</th>\n",
              "      <th>cons.price.idx</th>\n",
              "      <th>cons.conf.idx</th>\n",
              "      <th>euribor3m</th>\n",
              "      <th>nr.employed</th>\n",
              "      <th>y</th>\n",
              "    </tr>\n",
              "  </thead>\n",
              "  <tbody>\n",
              "    <tr>\n",
              "      <th>0</th>\n",
              "      <td>56</td>\n",
              "      <td>housemaid</td>\n",
              "      <td>married</td>\n",
              "      <td>basic.4y</td>\n",
              "      <td>no</td>\n",
              "      <td>no</td>\n",
              "      <td>no</td>\n",
              "      <td>telephone</td>\n",
              "      <td>may</td>\n",
              "      <td>mon</td>\n",
              "      <td>...</td>\n",
              "      <td>1</td>\n",
              "      <td>999</td>\n",
              "      <td>0</td>\n",
              "      <td>nonexistent</td>\n",
              "      <td>1.1</td>\n",
              "      <td>93.994</td>\n",
              "      <td>-36.4</td>\n",
              "      <td>4.857</td>\n",
              "      <td>5191.0</td>\n",
              "      <td>no</td>\n",
              "    </tr>\n",
              "    <tr>\n",
              "      <th>1</th>\n",
              "      <td>57</td>\n",
              "      <td>services</td>\n",
              "      <td>married</td>\n",
              "      <td>high.school</td>\n",
              "      <td>unknown</td>\n",
              "      <td>no</td>\n",
              "      <td>no</td>\n",
              "      <td>telephone</td>\n",
              "      <td>may</td>\n",
              "      <td>mon</td>\n",
              "      <td>...</td>\n",
              "      <td>1</td>\n",
              "      <td>999</td>\n",
              "      <td>0</td>\n",
              "      <td>nonexistent</td>\n",
              "      <td>1.1</td>\n",
              "      <td>93.994</td>\n",
              "      <td>-36.4</td>\n",
              "      <td>4.857</td>\n",
              "      <td>5191.0</td>\n",
              "      <td>no</td>\n",
              "    </tr>\n",
              "    <tr>\n",
              "      <th>2</th>\n",
              "      <td>37</td>\n",
              "      <td>services</td>\n",
              "      <td>married</td>\n",
              "      <td>high.school</td>\n",
              "      <td>no</td>\n",
              "      <td>yes</td>\n",
              "      <td>no</td>\n",
              "      <td>telephone</td>\n",
              "      <td>may</td>\n",
              "      <td>mon</td>\n",
              "      <td>...</td>\n",
              "      <td>1</td>\n",
              "      <td>999</td>\n",
              "      <td>0</td>\n",
              "      <td>nonexistent</td>\n",
              "      <td>1.1</td>\n",
              "      <td>93.994</td>\n",
              "      <td>-36.4</td>\n",
              "      <td>4.857</td>\n",
              "      <td>5191.0</td>\n",
              "      <td>no</td>\n",
              "    </tr>\n",
              "    <tr>\n",
              "      <th>3</th>\n",
              "      <td>40</td>\n",
              "      <td>admin.</td>\n",
              "      <td>married</td>\n",
              "      <td>basic.6y</td>\n",
              "      <td>no</td>\n",
              "      <td>no</td>\n",
              "      <td>no</td>\n",
              "      <td>telephone</td>\n",
              "      <td>may</td>\n",
              "      <td>mon</td>\n",
              "      <td>...</td>\n",
              "      <td>1</td>\n",
              "      <td>999</td>\n",
              "      <td>0</td>\n",
              "      <td>nonexistent</td>\n",
              "      <td>1.1</td>\n",
              "      <td>93.994</td>\n",
              "      <td>-36.4</td>\n",
              "      <td>4.857</td>\n",
              "      <td>5191.0</td>\n",
              "      <td>no</td>\n",
              "    </tr>\n",
              "    <tr>\n",
              "      <th>4</th>\n",
              "      <td>56</td>\n",
              "      <td>services</td>\n",
              "      <td>married</td>\n",
              "      <td>high.school</td>\n",
              "      <td>no</td>\n",
              "      <td>no</td>\n",
              "      <td>yes</td>\n",
              "      <td>telephone</td>\n",
              "      <td>may</td>\n",
              "      <td>mon</td>\n",
              "      <td>...</td>\n",
              "      <td>1</td>\n",
              "      <td>999</td>\n",
              "      <td>0</td>\n",
              "      <td>nonexistent</td>\n",
              "      <td>1.1</td>\n",
              "      <td>93.994</td>\n",
              "      <td>-36.4</td>\n",
              "      <td>4.857</td>\n",
              "      <td>5191.0</td>\n",
              "      <td>no</td>\n",
              "    </tr>\n",
              "  </tbody>\n",
              "</table>\n",
              "<p>5 rows × 21 columns</p>\n",
              "</div>\n",
              "      <button class=\"colab-df-convert\" onclick=\"convertToInteractive('df-150c2071-701c-4fb1-be34-9a672a242282')\"\n",
              "              title=\"Convert this dataframe to an interactive table.\"\n",
              "              style=\"display:none;\">\n",
              "        \n",
              "  <svg xmlns=\"http://www.w3.org/2000/svg\" height=\"24px\"viewBox=\"0 0 24 24\"\n",
              "       width=\"24px\">\n",
              "    <path d=\"M0 0h24v24H0V0z\" fill=\"none\"/>\n",
              "    <path d=\"M18.56 5.44l.94 2.06.94-2.06 2.06-.94-2.06-.94-.94-2.06-.94 2.06-2.06.94zm-11 1L8.5 8.5l.94-2.06 2.06-.94-2.06-.94L8.5 2.5l-.94 2.06-2.06.94zm10 10l.94 2.06.94-2.06 2.06-.94-2.06-.94-.94-2.06-.94 2.06-2.06.94z\"/><path d=\"M17.41 7.96l-1.37-1.37c-.4-.4-.92-.59-1.43-.59-.52 0-1.04.2-1.43.59L10.3 9.45l-7.72 7.72c-.78.78-.78 2.05 0 2.83L4 21.41c.39.39.9.59 1.41.59.51 0 1.02-.2 1.41-.59l7.78-7.78 2.81-2.81c.8-.78.8-2.07 0-2.86zM5.41 20L4 18.59l7.72-7.72 1.47 1.35L5.41 20z\"/>\n",
              "  </svg>\n",
              "      </button>\n",
              "      \n",
              "  <style>\n",
              "    .colab-df-container {\n",
              "      display:flex;\n",
              "      flex-wrap:wrap;\n",
              "      gap: 12px;\n",
              "    }\n",
              "\n",
              "    .colab-df-convert {\n",
              "      background-color: #E8F0FE;\n",
              "      border: none;\n",
              "      border-radius: 50%;\n",
              "      cursor: pointer;\n",
              "      display: none;\n",
              "      fill: #1967D2;\n",
              "      height: 32px;\n",
              "      padding: 0 0 0 0;\n",
              "      width: 32px;\n",
              "    }\n",
              "\n",
              "    .colab-df-convert:hover {\n",
              "      background-color: #E2EBFA;\n",
              "      box-shadow: 0px 1px 2px rgba(60, 64, 67, 0.3), 0px 1px 3px 1px rgba(60, 64, 67, 0.15);\n",
              "      fill: #174EA6;\n",
              "    }\n",
              "\n",
              "    [theme=dark] .colab-df-convert {\n",
              "      background-color: #3B4455;\n",
              "      fill: #D2E3FC;\n",
              "    }\n",
              "\n",
              "    [theme=dark] .colab-df-convert:hover {\n",
              "      background-color: #434B5C;\n",
              "      box-shadow: 0px 1px 3px 1px rgba(0, 0, 0, 0.15);\n",
              "      filter: drop-shadow(0px 1px 2px rgba(0, 0, 0, 0.3));\n",
              "      fill: #FFFFFF;\n",
              "    }\n",
              "  </style>\n",
              "\n",
              "      <script>\n",
              "        const buttonEl =\n",
              "          document.querySelector('#df-150c2071-701c-4fb1-be34-9a672a242282 button.colab-df-convert');\n",
              "        buttonEl.style.display =\n",
              "          google.colab.kernel.accessAllowed ? 'block' : 'none';\n",
              "\n",
              "        async function convertToInteractive(key) {\n",
              "          const element = document.querySelector('#df-150c2071-701c-4fb1-be34-9a672a242282');\n",
              "          const dataTable =\n",
              "            await google.colab.kernel.invokeFunction('convertToInteractive',\n",
              "                                                     [key], {});\n",
              "          if (!dataTable) return;\n",
              "\n",
              "          const docLinkHtml = 'Like what you see? Visit the ' +\n",
              "            '<a target=\"_blank\" href=https://colab.research.google.com/notebooks/data_table.ipynb>data table notebook</a>'\n",
              "            + ' to learn more about interactive tables.';\n",
              "          element.innerHTML = '';\n",
              "          dataTable['output_type'] = 'display_data';\n",
              "          await google.colab.output.renderOutput(dataTable, element);\n",
              "          const docLink = document.createElement('div');\n",
              "          docLink.innerHTML = docLinkHtml;\n",
              "          element.appendChild(docLink);\n",
              "        }\n",
              "      </script>\n",
              "    </div>\n",
              "  </div>\n",
              "  "
            ]
          },
          "metadata": {},
          "execution_count": 8
        }
      ]
    },
    {
      "cell_type": "code",
      "source": [
        "## Label Encoding our Target Variable\n",
        "encoder=preprocessing.LabelEncoder()\n",
        "bank[\"y\"]=encoder.fit_transform(bank[\"y\"])"
      ],
      "metadata": {
        "id": "t0QROpm25SNu"
      },
      "execution_count": 11,
      "outputs": []
    },
    {
      "cell_type": "code",
      "source": [
        "bank[\"y\"]  ## 0 -> Not Subscribed(No) and 1-> Subscribed(Yes)"
      ],
      "metadata": {
        "colab": {
          "base_uri": "https://localhost:8080/"
        },
        "id": "1fXsAWf257jL",
        "outputId": "ae351d1c-8bf2-47ea-a12e-315f7f23adb9"
      },
      "execution_count": 12,
      "outputs": [
        {
          "output_type": "execute_result",
          "data": {
            "text/plain": [
              "0        0\n",
              "1        0\n",
              "2        0\n",
              "3        0\n",
              "4        0\n",
              "        ..\n",
              "41183    1\n",
              "41184    0\n",
              "41185    0\n",
              "41186    1\n",
              "41187    0\n",
              "Name: y, Length: 41188, dtype: int64"
            ]
          },
          "metadata": {},
          "execution_count": 12
        }
      ]
    },
    {
      "cell_type": "code",
      "source": [
        "import matplotlib.pyplot as plt\n",
        "import seaborn as sns"
      ],
      "metadata": {
        "id": "PYcEt-856JBO"
      },
      "execution_count": 13,
      "outputs": []
    },
    {
      "cell_type": "code",
      "source": [
        "## CHECKING FOR IMBALANCE DATA\n",
        "bank[\"y\"].value_counts()"
      ],
      "metadata": {
        "colab": {
          "base_uri": "https://localhost:8080/"
        },
        "id": "bZBo8gMu6i3a",
        "outputId": "6b28b149-f1ce-4e0c-bdd3-8882c495dd1d"
      },
      "execution_count": 15,
      "outputs": [
        {
          "output_type": "execute_result",
          "data": {
            "text/plain": [
              "0    36548\n",
              "1     4640\n",
              "Name: y, dtype: int64"
            ]
          },
          "metadata": {},
          "execution_count": 15
        }
      ]
    },
    {
      "cell_type": "code",
      "source": [
        "bank.info()"
      ],
      "metadata": {
        "colab": {
          "base_uri": "https://localhost:8080/"
        },
        "id": "EzG-TIjE6trQ",
        "outputId": "a03a58e7-e058-43de-8019-61a6d03599eb"
      },
      "execution_count": 16,
      "outputs": [
        {
          "output_type": "stream",
          "name": "stdout",
          "text": [
            "<class 'pandas.core.frame.DataFrame'>\n",
            "RangeIndex: 41188 entries, 0 to 41187\n",
            "Data columns (total 21 columns):\n",
            " #   Column          Non-Null Count  Dtype  \n",
            "---  ------          --------------  -----  \n",
            " 0   age             41188 non-null  int64  \n",
            " 1   job             41188 non-null  object \n",
            " 2   marital         41188 non-null  object \n",
            " 3   education       41188 non-null  object \n",
            " 4   default         41188 non-null  object \n",
            " 5   housing         41188 non-null  object \n",
            " 6   loan            41188 non-null  object \n",
            " 7   contact         41188 non-null  object \n",
            " 8   month           41188 non-null  object \n",
            " 9   day_of_week     41188 non-null  object \n",
            " 10  duration        41188 non-null  int64  \n",
            " 11  campaign        41188 non-null  int64  \n",
            " 12  pdays           41188 non-null  int64  \n",
            " 13  previous        41188 non-null  int64  \n",
            " 14  poutcome        41188 non-null  object \n",
            " 15  emp.var.rate    41188 non-null  float64\n",
            " 16  cons.price.idx  41188 non-null  float64\n",
            " 17  cons.conf.idx   41188 non-null  float64\n",
            " 18  euribor3m       41188 non-null  float64\n",
            " 19  nr.employed     41188 non-null  float64\n",
            " 20  y               41188 non-null  int64  \n",
            "dtypes: float64(5), int64(6), object(10)\n",
            "memory usage: 6.6+ MB\n"
          ]
        }
      ]
    },
    {
      "cell_type": "code",
      "source": [
        "categorical_features=bank[[\"job\",\"marital\",\"education\",\"default\",\"housing\",\"loan\",\"contact\",\"month\",\"day_of_week\",\"poutcome\"]]"
      ],
      "metadata": {
        "id": "5XwZpLA7627g"
      },
      "execution_count": 18,
      "outputs": []
    },
    {
      "cell_type": "code",
      "source": [
        "#@title Primary Analysis For Categorical FEatures:\n",
        "\n"
      ],
      "metadata": {
        "cellView": "form",
        "id": "tFP6Is9n6664"
      },
      "execution_count": 121,
      "outputs": []
    },
    {
      "cell_type": "code",
      "source": [
        "for columns in categorical_features:\n",
        "    plt.figure(figsize=(7,7))\n",
        "    plt.xlabel(columns)\n",
        "    plt.ylabel(\"counts\")\n",
        "    bank[columns].value_counts().plot(kind=\"bar\")\n"
      ],
      "metadata": {
        "colab": {
          "base_uri": "https://localhost:8080/",
          "height": 1000
        },
        "id": "DglAInd77Plc",
        "outputId": "2e1efe32-2665-42e1-b90e-f898b00bba8d"
      },
      "execution_count": 27,
      "outputs": [
        {
          "output_type": "display_data",
          "data": {
            "text/plain": [
              "<Figure size 504x504 with 1 Axes>"
            ],
            "image/png": "[encoded data removed]"
          },
          "metadata": {
            "needs_background": "light"
          }
        },
        {
          "output_type": "display_data",
          "data": {
            "text/plain": [
              "<Figure size 504x504 with 1 Axes>"
            ],
            "image/png": "[encoded data removed]"
          },
          "metadata": {
            "needs_background": "light"
          }
        },
        {
          "output_type": "display_data",
          "data": {
            "text/plain": [
              "<Figure size 504x504 with 1 Axes>"
            ],
            "image/png": "[encoded data removed]"
          },
          "metadata": {
            "needs_background": "light"
          }
        },
        {
          "output_type": "display_data",
          "data": {
            "text/plain": [
              "<Figure size 504x504 with 1 Axes>"
            ],
            "image/png": "[encoded data removed]"
          },
          "metadata": {
            "needs_background": "light"
          }
        },
        {
          "output_type": "display_data",
          "data": {
            "text/plain": [
              "<Figure size 504x504 with 1 Axes>"
            ],
            "image/png": "[encoded data removed]"
          },
          "metadata": {
            "needs_background": "light"
          }
        },
        {
          "output_type": "display_data",
          "data": {
            "text/plain": [
              "<Figure size 504x504 with 1 Axes>"
            ],
            "image/png": "[encoded data removed]"
          },
          "metadata": {
            "needs_background": "light"
          }
        },
        {
          "output_type": "display_data",
          "data": {
            "text/plain": [
              "<Figure size 504x504 with 1 Axes>"
            ],
            "image/png": "[encoded data removed]"
          },
          "metadata": {
            "needs_background": "light"
          }
        },
        {
          "output_type": "display_data",
          "data": {
            "text/plain": [
              "<Figure size 504x504 with 1 Axes>"
            ],
            "image/png": "[encoded data removed]"
          },
          "metadata": {
            "needs_background": "light"
          }
        },
        {
          "output_type": "display_data",
          "data": {
            "text/plain": [
              "<Figure size 504x504 with 1 Axes>"
            ],
            "image/png": "[encoded data removed]"
          },
          "metadata": {
            "needs_background": "light"
          }
        },
        {
          "output_type": "display_data",
          "data": {
            "text/plain": [
              "<Figure size 504x504 with 1 Axes>"
            ],
            "image/png": "[encoded data removed]"
          },
          "metadata": {
            "needs_background": "light"
          }
        }
      ]
    },
    {
      "cell_type": "code",
      "source": [
        "##AS WE CAN SEE HERE THERE ARE MANY ENTRIES UNDER UNKNOWN NAME.THIS IS LIKE MISSING DATA ONLY SO WE HAVE TO REPLACE IT WITH MODE"
      ],
      "metadata": {
        "id": "rkawwR4D8aRw"
      },
      "execution_count": 29,
      "outputs": []
    },
    {
      "cell_type": "code",
      "source": [
        "for columns in categorical_features:\n",
        "    mode=bank[columns].mode()[0]\n",
        "    bank[columns]=bank[columns].replace(\"unknown\",mode)"
      ],
      "metadata": {
        "id": "MuZMJ-gW8uAQ"
      },
      "execution_count": 31,
      "outputs": []
    },
    {
      "cell_type": "code",
      "source": [
        "## WE CAN SEE ALL THE UNKNOWN ARE REPLACED BY MODE VALUE\n",
        "for columns in categorical_features:\n",
        "    plt.figure(figsize=(7,7))\n",
        "    plt.xlabel(columns)\n",
        "    plt.ylabel(\"counts\")\n",
        "    bank[columns].value_counts().plot(kind=\"bar\")"
      ],
      "metadata": {
        "colab": {
          "base_uri": "https://localhost:8080/",
          "height": 1000
        },
        "id": "OMinh73x8zUY",
        "outputId": "a115d7b7-7348-4ec4-d924-6d315b7551a9"
      },
      "execution_count": 32,
      "outputs": [
        {
          "output_type": "display_data",
          "data": {
            "text/plain": [
              "<Figure size 504x504 with 1 Axes>"
            ],
            "image/png": "[encoded data removed]"
          },
          "metadata": {
            "needs_background": "light"
          }
        },
        {
          "output_type": "display_data",
          "data": {
            "text/plain": [
              "<Figure size 504x504 with 1 Axes>"
            ],
            "image/png": "[encoded data removed]"
          },
          "metadata": {
            "needs_background": "light"
          }
        },
        {
          "output_type": "display_data",
          "data": {
            "text/plain": [
              "<Figure size 504x504 with 1 Axes>"
            ],
            "image/png": "[encoded data removed]"
          },
          "metadata": {
            "needs_background": "light"
          }
        },
        {
          "output_type": "display_data",
          "data": {
            "text/plain": [
              "<Figure size 504x504 with 1 Axes>"
            ],
            "image/png": "[encoded data removed]"
          },
          "metadata": {
            "needs_background": "light"
          }
        },
        {
          "output_type": "display_data",
          "data": {
            "text/plain": [
              "<Figure size 504x504 with 1 Axes>"
            ],
            "image/png": "[encoded data removed]"
          },
          "metadata": {
            "needs_background": "light"
          }
        },
        {
          "output_type": "display_data",
          "data": {
            "text/plain": [
              "<Figure size 504x504 with 1 Axes>"
            ],
            "image/png": "[encoded data removed]"
          },
          "metadata": {
            "needs_background": "light"
          }
        },
        {
          "output_type": "display_data",
          "data": {
            "text/plain": [
              "<Figure size 504x504 with 1 Axes>"
            ],
            "image/png": "[encoded data removed]"
          },
          "metadata": {
            "needs_background": "light"
          }
        },
        {
          "output_type": "display_data",
          "data": {
            "text/plain": [
              "<Figure size 504x504 with 1 Axes>"
            ],
            "image/png": "[encoded data removed]"
          },
          "metadata": {
            "needs_background": "light"
          }
        },
        {
          "output_type": "display_data",
          "data": {
            "text/plain": [
              "<Figure size 504x504 with 1 Axes>"
            ],
            "image/png": "[encoded data removed]"
          },
          "metadata": {
            "needs_background": "light"
          }
        },
        {
          "output_type": "display_data",
          "data": {
            "text/plain": [
              "<Figure size 504x504 with 1 Axes>"
            ],
            "image/png": "[encoded data removed]"
          },
          "metadata": {
            "needs_background": "light"
          }
        }
      ]
    },
    {
      "cell_type": "code",
      "source": [
        "##PRIMARY ANALYSIS CONCLUSION : 1) MOST OF THE JOBS CUSOMERS BELONGS TO ARE ADMINISTRATION,BLUE-COLLAR AND TECHNICIANS\n",
        "                              #2) MOST OF THE CUSTOMERS ARE MARRIED \n",
        "                              #3) CUSTOMERS ARE WELL EDUCATED\n",
        "                              #4) MAJORITY CUSTOMERS DO NOT HAVE CREDIT IN DEFAULT \n",
        "                              #5) MAJORITY OF CUSTOMERS APPLY FOR HOUSING LOAN \n",
        "                              #6) VERY FEW CUSTOMERS ARE INTRESTED IN PERSONAL LOAN\n",
        "                              #7) MANY CUSTOMERS FAVOUR CELLULAR COMMUNICATION\n",
        "                              #8) MOST OF THE CUSTOMERS CONTACT IN THE MONTH OF MAY"
      ],
      "metadata": {
        "id": "6r5C1_ZKQNz2"
      },
      "execution_count": 123,
      "outputs": []
    },
    {
      "cell_type": "code",
      "source": [
        "## WE WILL BE DOING LABEL ENCODING RATHER THAN DUMMIES CREATION. DUMMIES WOULD UNNECESSARILY INCREASE OUR FEATURES"
      ],
      "metadata": {
        "id": "Kd6AdJl39P_D"
      },
      "execution_count": 34,
      "outputs": []
    },
    {
      "cell_type": "code",
      "source": [
        "encoder_1=preprocessing.LabelEncoder()\n",
        "bank[\"job\"]=encoder_1.fit_transform(bank[\"job\"])"
      ],
      "metadata": {
        "id": "q34eTiyB9dIJ"
      },
      "execution_count": 36,
      "outputs": []
    },
    {
      "cell_type": "code",
      "source": [
        "encoder_2=preprocessing.LabelEncoder()\n",
        "bank[\"marital\"]=encoder_2.fit_transform(bank[\"marital\"])"
      ],
      "metadata": {
        "id": "dBXzcHu59hCK"
      },
      "execution_count": 37,
      "outputs": []
    },
    {
      "cell_type": "code",
      "source": [
        "encoder_3=preprocessing.LabelEncoder()\n",
        "bank[\"education\"]=encoder_3.fit_transform(bank[\"education\"])"
      ],
      "metadata": {
        "id": "f20NzstA9o0L"
      },
      "execution_count": 38,
      "outputs": []
    },
    {
      "cell_type": "code",
      "source": [
        "encoder_4=preprocessing.LabelEncoder()\n",
        "bank[\"default\"]=encoder_4.fit_transform(bank[\"default\"])"
      ],
      "metadata": {
        "id": "WLqZIsEm9tut"
      },
      "execution_count": 39,
      "outputs": []
    },
    {
      "cell_type": "code",
      "source": [
        "encoder_5=preprocessing.LabelEncoder()\n",
        "bank[\"housing\"]=encoder_5.fit_transform(bank[\"housing\"])"
      ],
      "metadata": {
        "id": "9iz0ykl_9yGy"
      },
      "execution_count": 40,
      "outputs": []
    },
    {
      "cell_type": "code",
      "source": [
        "encoder_6=preprocessing.LabelEncoder()\n",
        "bank[\"loan\"]=encoder_6.fit_transform(bank[\"loan\"])"
      ],
      "metadata": {
        "id": "mEUMbLxM92x6"
      },
      "execution_count": 41,
      "outputs": []
    },
    {
      "cell_type": "code",
      "source": [
        "encoder_7=preprocessing.LabelEncoder()\n",
        "bank[\"contact\"]=encoder_7.fit_transform(bank[\"contact\"])"
      ],
      "metadata": {
        "id": "RGSENl6C97Pe"
      },
      "execution_count": 42,
      "outputs": []
    },
    {
      "cell_type": "code",
      "source": [
        "encoder_8=preprocessing.LabelEncoder()\n",
        "bank[\"month\"]=encoder_8.fit_transform(bank[\"month\"])"
      ],
      "metadata": {
        "id": "YIc8mHdG9_Ei"
      },
      "execution_count": 43,
      "outputs": []
    },
    {
      "cell_type": "code",
      "source": [
        "encoder_9=preprocessing.LabelEncoder()\n",
        "bank[\"poutcome\"]=encoder_9.fit_transform(bank[\"poutcome\"])"
      ],
      "metadata": {
        "id": "EMKxIja9-Mwk"
      },
      "execution_count": 44,
      "outputs": []
    },
    {
      "cell_type": "code",
      "source": [
        "encoder_10=preprocessing.LabelEncoder()\n",
        "bank[\"job\"]=encoder_10.fit_transform(bank[\"job\"])"
      ],
      "metadata": {
        "id": "2z83c_2W-Q8o"
      },
      "execution_count": 45,
      "outputs": []
    },
    {
      "cell_type": "code",
      "source": [
        "encoder_11=preprocessing.LabelEncoder()\n",
        "bank[\"day_of_week\"]=encoder_11.fit_transform(bank[\"day_of_week\"])"
      ],
      "metadata": {
        "id": "gc4f4Oof-Upk"
      },
      "execution_count": 46,
      "outputs": []
    },
    {
      "cell_type": "code",
      "source": [
        "X=bank[['age', 'job', 'marital', 'education', 'default', 'housing', 'loan',\n",
        "       'contact', 'month', 'day_of_week', 'duration', 'campaign', 'pdays',\n",
        "       'previous', 'poutcome', 'emp.var.rate', 'cons.price.idx',\n",
        "       'cons.conf.idx', 'euribor3m', 'nr.employed']]\n",
        "Y=bank[\"y\"]"
      ],
      "metadata": {
        "id": "YjbnSAvH-ZHI"
      },
      "execution_count": 47,
      "outputs": []
    },
    {
      "cell_type": "code",
      "source": [
        "## TRAIN TEST SPLIT\n",
        "from sklearn.model_selection import train_test_split\n",
        "X_train,X_test,Y_train,Y_test=train_test_split(X,Y,test_size=0.3,random_state=42)"
      ],
      "metadata": {
        "id": "DcWobTZ_-dQI"
      },
      "execution_count": 48,
      "outputs": []
    },
    {
      "cell_type": "code",
      "source": [
        "#@title SELECTING IMPORTANT FEATURES BASED ON RANDOM FOREST :\n"
      ],
      "metadata": {
        "id": "e3BZ9CZv-fQF"
      },
      "execution_count": 115,
      "outputs": []
    },
    {
      "cell_type": "code",
      "source": [
        "from sklearn.feature_selection import RFE,SelectFromModel\n",
        "from sklearn.ensemble import RandomForestClassifier,AdaBoostClassifier\n",
        "from sklearn.model_selection import GridSearchCV\n",
        "from sklearn.metrics import classification_report,confusion_matrix,accuracy_score"
      ],
      "metadata": {
        "id": "RTb0Fa_F-lKc"
      },
      "execution_count": 50,
      "outputs": []
    },
    {
      "cell_type": "code",
      "source": [
        "## WE WILL BE DOING OPTIMAZATION TO FIND BEST PARAMETRIC VALUES \n",
        "RF=RandomForestClassifier()"
      ],
      "metadata": {
        "id": "1mW7O2M8-nEm"
      },
      "execution_count": 51,
      "outputs": []
    },
    {
      "cell_type": "code",
      "source": [
        "##SINCE OUR DATA IS LESS THAN 50K WE WILL BE CREATING LESS THAN 300 TREES\n",
        "parameters={\n",
        "    \"n_estimators\" :[10,50,100,150,200]\n",
        "}"
      ],
      "metadata": {
        "id": "RQYjnwjx-o1A"
      },
      "execution_count": 52,
      "outputs": []
    },
    {
      "cell_type": "code",
      "source": [
        "CLF=GridSearchCV(RF,parameters)"
      ],
      "metadata": {
        "id": "yHABa6T--qY_"
      },
      "execution_count": 53,
      "outputs": []
    },
    {
      "cell_type": "code",
      "source": [
        "CLF.fit(X,Y)"
      ],
      "metadata": {
        "colab": {
          "base_uri": "https://localhost:8080/"
        },
        "id": "argsk7Y2-ryU",
        "outputId": "094d0ab2-e995-4e60-8419-6a2af10ea0a3"
      },
      "execution_count": 54,
      "outputs": [
        {
          "output_type": "execute_result",
          "data": {
            "text/plain": [
              "GridSearchCV(estimator=RandomForestClassifier(),\n",
              "             param_grid={'n_estimators': [10, 50, 100, 150, 200]})"
            ]
          },
          "metadata": {},
          "execution_count": 54
        }
      ]
    },
    {
      "cell_type": "code",
      "source": [
        "print(CLF.best_params_)"
      ],
      "metadata": {
        "colab": {
          "base_uri": "https://localhost:8080/"
        },
        "id": "IHlouWEU-tIv",
        "outputId": "906eb9f7-28f9-4c3d-a50f-78bdeead133a"
      },
      "execution_count": 55,
      "outputs": [
        {
          "output_type": "stream",
          "name": "stdout",
          "text": [
            "{'n_estimators': 10}\n"
          ]
        }
      ]
    },
    {
      "cell_type": "code",
      "source": [
        "## Building RF model \n",
        "model=RandomForestClassifier(n_estimators=10,random_state=100)"
      ],
      "metadata": {
        "id": "lQKD4O05-vSz"
      },
      "execution_count": 56,
      "outputs": []
    },
    {
      "cell_type": "code",
      "source": [
        "model.fit(X_train,Y_train)"
      ],
      "metadata": {
        "colab": {
          "base_uri": "https://localhost:8080/"
        },
        "id": "MkQKYBKY-xUe",
        "outputId": "9b215e69-8809-4cb1-dd21-05172060299c"
      },
      "execution_count": 57,
      "outputs": [
        {
          "output_type": "execute_result",
          "data": {
            "text/plain": [
              "RandomForestClassifier(n_estimators=10, random_state=100)"
            ]
          },
          "metadata": {},
          "execution_count": 57
        }
      ]
    },
    {
      "cell_type": "code",
      "source": [
        "model_accuracy=model.predict(X_test)"
      ],
      "metadata": {
        "id": "uwcGlsBr_N_9"
      },
      "execution_count": 58,
      "outputs": []
    },
    {
      "cell_type": "code",
      "source": [
        "## Accuracy Score without feature selection\n",
        "print(\"Accuracy score :\",accuracy_score(Y_test,model_accuracy))"
      ],
      "metadata": {
        "colab": {
          "base_uri": "https://localhost:8080/"
        },
        "id": "VrUzlmuh_PS8",
        "outputId": "da8f1398-7d1f-4289-f7fa-0caa65dc3754"
      },
      "execution_count": 59,
      "outputs": [
        {
          "output_type": "stream",
          "name": "stdout",
          "text": [
            "Accuracy score : 0.908877559278142\n"
          ]
        }
      ]
    },
    {
      "cell_type": "code",
      "source": [
        "##HERE WE CAN SEE OUR RANDOM FOREST MODEL IS PROVIDING ACCURACY OF 90%"
      ],
      "metadata": {
        "id": "dlQiTGeI_QhW"
      },
      "execution_count": 60,
      "outputs": []
    },
    {
      "cell_type": "code",
      "source": [
        "importances=model.feature_importances_\n",
        "## creating a data frame for visualization\n",
        "final_df=pd.DataFrame({\n",
        "    \"Features\" :X_train.columns,\n",
        "    \"Importances\" : importances\n",
        "})\n",
        "## sorting in ascending order for better visualization\n",
        "final_df=final_df.sort_values(\"Importances\")\n",
        "\n",
        "## plotting the feature importance in barplot\n",
        "plt.figure(figsize=(10,4))\n",
        "plt.xticks(rotation=45)\n",
        "sns.barplot(x=\"Features\",y=\"Importances\",data=final_df)"
      ],
      "metadata": {
        "colab": {
          "base_uri": "https://localhost:8080/",
          "height": 343
        },
        "id": "2-gZDjvt_WJ9",
        "outputId": "a8b2ec8c-ce51-4e2b-9ee2-60697cf9cd2d"
      },
      "execution_count": 61,
      "outputs": [
        {
          "output_type": "execute_result",
          "data": {
            "text/plain": [
              "<matplotlib.axes._subplots.AxesSubplot at 0x7f703b096700>"
            ]
          },
          "metadata": {},
          "execution_count": 61
        },
        {
          "output_type": "display_data",
          "data": {
            "text/plain": [
              "<Figure size 720x288 with 1 Axes>"
            ],
            "image/png": "[encoded data removed]"
          },
          "metadata": {
            "needs_background": "light"
          }
        }
      ]
    },
    {
      "cell_type": "code",
      "source": [
        "## CHECKING ACCURACY WITH FEATURE IMPORTANCES\n",
        "## SELECTING MOST SIGNIFICANT TOP 10 FEATURES\n",
        "model_1=RandomForestClassifier(n_estimators=10,random_state=100)\n",
        "RF_tree=RFE(estimator=model_1,n_features_to_select=10,step=1)\n",
        "X_train_RF_tree=RF_tree.fit_transform(X_train,Y_train)\n",
        "Y_pred_RF=RF_tree.predict(X_test)\n",
        "print(RF_tree.get_support())\n",
        "print(RF_tree.ranking_)\n",
        "print(accuracy_score(Y_test,Y_pred_RF))"
      ],
      "metadata": {
        "colab": {
          "base_uri": "https://localhost:8080/"
        },
        "id": "b-_dw3wV_cIz",
        "outputId": "b91bb1fe-20b3-4740-bc9a-c32d936c5fe6"
      },
      "execution_count": 62,
      "outputs": [
        {
          "output_type": "stream",
          "name": "stdout",
          "text": [
            "[ True  True False  True False False False False False  True  True  True\n",
            "  True False False False False  True  True  True]\n",
            "[ 1  1  4  1 11  6  8 10  3  1  1  1  1  7  2  9  5  1  1  1]\n",
            "0.9096058913975884\n"
          ]
        }
      ]
    },
    {
      "cell_type": "code",
      "source": [
        "##FEATURES WHICH WHERE SELECTED ARE RANKED AS 1\n",
        "selected_cols=[column for column in X_train.columns if column in X_train.columns[RF_tree.get_support()]]\n",
        "selected_cols"
      ],
      "metadata": {
        "colab": {
          "base_uri": "https://localhost:8080/"
        },
        "id": "bShhym3u_16C",
        "outputId": "f765b231-920c-4461-eeec-34724aba402a"
      },
      "execution_count": 63,
      "outputs": [
        {
          "output_type": "execute_result",
          "data": {
            "text/plain": [
              "['age',\n",
              " 'job',\n",
              " 'education',\n",
              " 'day_of_week',\n",
              " 'duration',\n",
              " 'campaign',\n",
              " 'pdays',\n",
              " 'cons.conf.idx',\n",
              " 'euribor3m',\n",
              " 'nr.employed']"
            ]
          },
          "metadata": {},
          "execution_count": 63
        }
      ]
    },
    {
      "cell_type": "code",
      "source": [
        "#@title OUT OF 20 FEATURES ABOVE 10 ARE MOST SIGNIFICANT FEATURES\n"
      ],
      "metadata": {
        "id": "OI-ZwT1d_32U"
      },
      "execution_count": 114,
      "outputs": []
    },
    {
      "cell_type": "code",
      "source": [
        "#@title STANDARDISING :\n"
      ],
      "metadata": {
        "id": "b92BplAAAHXT"
      },
      "execution_count": 113,
      "outputs": []
    },
    {
      "cell_type": "code",
      "source": [
        "## WE CAN SEE OUR DATA IS CONTAINING RANGE FROM FLOATING TO FOUR DIGIT NUMBERS WHICH CAN HAVE AFFECT OUR ACCURACY.\n",
        "## TO AVOID SUCH SITUATION WE WILL DO STANDARDISATION \n",
        "from sklearn.preprocessing import StandardScaler\n",
        "scaler=StandardScaler()\n",
        "scaler.fit(X)"
      ],
      "metadata": {
        "colab": {
          "base_uri": "https://localhost:8080/"
        },
        "id": "PpYCwxclANJs",
        "outputId": "2a1e5096-1669-4687-ff52-31008cd19334"
      },
      "execution_count": 67,
      "outputs": [
        {
          "output_type": "execute_result",
          "data": {
            "text/plain": [
              "StandardScaler()"
            ]
          },
          "metadata": {},
          "execution_count": 67
        }
      ]
    },
    {
      "cell_type": "code",
      "source": [
        "X=scaler.fit_transform(X)"
      ],
      "metadata": {
        "id": "poNh7cUnAO5Q"
      },
      "execution_count": 68,
      "outputs": []
    },
    {
      "cell_type": "code",
      "source": [
        "#@title BUILDING SUPERVISED LEARNING MODEL :\n"
      ],
      "metadata": {
        "id": "po-WoWyPAQG7"
      },
      "execution_count": 112,
      "outputs": []
    },
    {
      "cell_type": "code",
      "source": [
        "#@title 1) LOGISTIC REGRESSION"
      ],
      "metadata": {
        "id": "0u0ogbmNAUZT"
      },
      "execution_count": 111,
      "outputs": []
    },
    {
      "cell_type": "code",
      "source": [
        "from sklearn.linear_model import LogisticRegression\n",
        "LR=LogisticRegression()"
      ],
      "metadata": {
        "id": "rtD-e9iwAY0-"
      },
      "execution_count": 71,
      "outputs": []
    },
    {
      "cell_type": "code",
      "source": [
        "LR.fit(X_train,Y_train)"
      ],
      "metadata": {
        "colab": {
          "base_uri": "https://localhost:8080/"
        },
        "id": "56EEw91sAaTZ",
        "outputId": "b7cba36e-a019-4f26-eb0d-2a39a782d84d"
      },
      "execution_count": 72,
      "outputs": [
        {
          "output_type": "stream",
          "name": "stderr",
          "text": [
            "/usr/local/lib/python3.8/dist-packages/sklearn/linear_model/_logistic.py:814: ConvergenceWarning: lbfgs failed to converge (status=1):\n",
            "STOP: TOTAL NO. of ITERATIONS REACHED LIMIT.\n",
            "\n",
            "Increase the number of iterations (max_iter) or scale the data as shown in:\n",
            "    https://scikit-learn.org/stable/modules/preprocessing.html\n",
            "Please also refer to the documentation for alternative solver options:\n",
            "    https://scikit-learn.org/stable/modules/linear_model.html#logistic-regression\n",
            "  n_iter_i = _check_optimize_result(\n"
          ]
        },
        {
          "output_type": "execute_result",
          "data": {
            "text/plain": [
              "LogisticRegression()"
            ]
          },
          "metadata": {},
          "execution_count": 72
        }
      ]
    },
    {
      "cell_type": "code",
      "source": [
        "LR_pred=LR.predict(X_test)"
      ],
      "metadata": {
        "id": "2KQmJpIcAbhy"
      },
      "execution_count": 73,
      "outputs": []
    },
    {
      "cell_type": "code",
      "source": [
        "print(confusion_matrix(Y_test,LR_pred))"
      ],
      "metadata": {
        "colab": {
          "base_uri": "https://localhost:8080/"
        },
        "id": "hk5mX8MeAdmq",
        "outputId": "19b1de5a-a631-4c66-e6a1-a832e472417f"
      },
      "execution_count": 74,
      "outputs": [
        {
          "output_type": "stream",
          "name": "stdout",
          "text": [
            "[[10691   277]\n",
            " [  824   565]]\n"
          ]
        }
      ]
    },
    {
      "cell_type": "code",
      "source": [
        "print(\"Accuracy score for LR:\",accuracy_score(Y_test,LR_pred))"
      ],
      "metadata": {
        "colab": {
          "base_uri": "https://localhost:8080/"
        },
        "id": "TIPuGWcDAexP",
        "outputId": "5dca0314-71c2-4e17-c56a-3a5bc6299705"
      },
      "execution_count": 75,
      "outputs": [
        {
          "output_type": "stream",
          "name": "stdout",
          "text": [
            "Accuracy score for LR: 0.9109007040543822\n"
          ]
        }
      ]
    },
    {
      "cell_type": "code",
      "source": [
        "#@title 2)ADABOOST MODEL"
      ],
      "metadata": {
        "id": "qf2nZdsEAgY8"
      },
      "execution_count": 110,
      "outputs": []
    },
    {
      "cell_type": "code",
      "source": [
        "from sklearn.ensemble import AdaBoostClassifier"
      ],
      "metadata": {
        "id": "YkWao_byAins"
      },
      "execution_count": 77,
      "outputs": []
    },
    {
      "cell_type": "code",
      "source": [
        "AC=AdaBoostClassifier()"
      ],
      "metadata": {
        "id": "5Z_DSudsAkZP"
      },
      "execution_count": 78,
      "outputs": []
    },
    {
      "cell_type": "code",
      "source": [
        "para={\n",
        "    \"n_estimators\":[10,20,50,100,200],\n",
        "    \"learning_rate\":[0.01,0.1,0.5,1]\n",
        "}"
      ],
      "metadata": {
        "id": "Xz0FdnSIAlvw"
      },
      "execution_count": 79,
      "outputs": []
    },
    {
      "cell_type": "code",
      "source": [
        "CLFF=GridSearchCV(AC,para)"
      ],
      "metadata": {
        "id": "KhDgXXjQApMb"
      },
      "execution_count": 80,
      "outputs": []
    },
    {
      "cell_type": "code",
      "source": [
        "CLFF.fit(X,Y)"
      ],
      "metadata": {
        "colab": {
          "base_uri": "https://localhost:8080/"
        },
        "id": "AxbvuX_AAqmv",
        "outputId": "4eea3056-db5a-4075-e278-04b2ee8018b5"
      },
      "execution_count": 81,
      "outputs": [
        {
          "output_type": "execute_result",
          "data": {
            "text/plain": [
              "GridSearchCV(estimator=AdaBoostClassifier(),\n",
              "             param_grid={'learning_rate': [0.01, 0.1, 0.5, 1],\n",
              "                         'n_estimators': [10, 20, 50, 100, 200]})"
            ]
          },
          "metadata": {},
          "execution_count": 81
        }
      ]
    },
    {
      "cell_type": "code",
      "source": [
        "print(CLFF.best_params_)"
      ],
      "metadata": {
        "colab": {
          "base_uri": "https://localhost:8080/"
        },
        "id": "KmDrGI3UAr0V",
        "outputId": "bb0f870f-4587-44f2-fbb1-e5c527c17921"
      },
      "execution_count": 82,
      "outputs": [
        {
          "output_type": "stream",
          "name": "stdout",
          "text": [
            "{'learning_rate': 0.01, 'n_estimators': 100}\n"
          ]
        }
      ]
    },
    {
      "cell_type": "code",
      "source": [
        "ABM=AdaBoostClassifier(n_estimators=100,learning_rate=0.01)"
      ],
      "metadata": {
        "id": "2d84V4u-Avpg"
      },
      "execution_count": 83,
      "outputs": []
    },
    {
      "cell_type": "code",
      "source": [
        "ABM.fit(X_train,Y_train)"
      ],
      "metadata": {
        "colab": {
          "base_uri": "https://localhost:8080/"
        },
        "id": "CK7WTMF0AxmO",
        "outputId": "c61e1fe9-6334-485f-97d8-9078ec67f759"
      },
      "execution_count": 84,
      "outputs": [
        {
          "output_type": "execute_result",
          "data": {
            "text/plain": [
              "AdaBoostClassifier(learning_rate=0.01, n_estimators=100)"
            ]
          },
          "metadata": {},
          "execution_count": 84
        }
      ]
    },
    {
      "cell_type": "code",
      "source": [
        "ABM_pred=ABM.predict(X_test)"
      ],
      "metadata": {
        "id": "99bhSx0ZAyvZ"
      },
      "execution_count": 85,
      "outputs": []
    },
    {
      "cell_type": "code",
      "source": [
        "print(confusion_matrix(Y_test,ABM_pred))"
      ],
      "metadata": {
        "colab": {
          "base_uri": "https://localhost:8080/"
        },
        "id": "pIcn7w_IA0Ik",
        "outputId": "61135526-9a3d-47b9-f3b7-4267eb801c14"
      },
      "execution_count": 86,
      "outputs": [
        {
          "output_type": "stream",
          "name": "stdout",
          "text": [
            "[[10968     0]\n",
            " [ 1389     0]]\n"
          ]
        }
      ]
    },
    {
      "cell_type": "code",
      "source": [
        "print(\"Accuracy score for AB:\",accuracy_score(Y_test,ABM_pred))"
      ],
      "metadata": {
        "colab": {
          "base_uri": "https://localhost:8080/"
        },
        "id": "UWvtE4x_A2r4",
        "outputId": "9e69809e-609f-4017-9609-60bf939ec506"
      },
      "execution_count": 87,
      "outputs": [
        {
          "output_type": "stream",
          "name": "stdout",
          "text": [
            "Accuracy score for AB: 0.8875940762320952\n"
          ]
        }
      ]
    },
    {
      "cell_type": "code",
      "source": [
        "#@title 3)NAIVE BAYES MODEL\n"
      ],
      "metadata": {
        "id": "KEKljUkTA4MF"
      },
      "execution_count": 88,
      "outputs": []
    },
    {
      "cell_type": "code",
      "source": [
        "from sklearn.naive_bayes import GaussianNB\n",
        "NB=GaussianNB()\n",
        "NB.fit(X_train,Y_train)"
      ],
      "metadata": {
        "colab": {
          "base_uri": "https://localhost:8080/"
        },
        "id": "eAASqT22BCzZ",
        "outputId": "0057f282-a27d-4350-956e-31f4f085ff2e"
      },
      "execution_count": 89,
      "outputs": [
        {
          "output_type": "execute_result",
          "data": {
            "text/plain": [
              "GaussianNB()"
            ]
          },
          "metadata": {},
          "execution_count": 89
        }
      ]
    },
    {
      "cell_type": "code",
      "source": [
        "NB_pred=NB.predict(X_test)"
      ],
      "metadata": {
        "id": "z8syf_neCBRx"
      },
      "execution_count": 90,
      "outputs": []
    },
    {
      "cell_type": "code",
      "source": [
        "print(confusion_matrix(Y_test,NB_pred))"
      ],
      "metadata": {
        "colab": {
          "base_uri": "https://localhost:8080/"
        },
        "id": "ZtpFQUupCCoI",
        "outputId": "f2bff7fa-7789-463a-ed1a-68c311cac3df"
      },
      "execution_count": 91,
      "outputs": [
        {
          "output_type": "stream",
          "name": "stdout",
          "text": [
            "[[9553 1415]\n",
            " [ 521  868]]\n"
          ]
        }
      ]
    },
    {
      "cell_type": "code",
      "source": [
        "print(\"Accuracy score for NB:\",accuracy_score(Y_test,NB_pred))"
      ],
      "metadata": {
        "colab": {
          "base_uri": "https://localhost:8080/"
        },
        "id": "TMKwc75-CD1F",
        "outputId": "1d9178d5-07c5-46ed-d854-da4177ba7dc6"
      },
      "execution_count": 92,
      "outputs": [
        {
          "output_type": "stream",
          "name": "stdout",
          "text": [
            "Accuracy score for NB: 0.8433276685279598\n"
          ]
        }
      ]
    },
    {
      "cell_type": "code",
      "source": [
        "#@title 4)KNN MODEL\n"
      ],
      "metadata": {
        "id": "a95oJbC5CFc2"
      },
      "execution_count": 93,
      "outputs": []
    },
    {
      "cell_type": "code",
      "source": [
        "from sklearn.neighbors import KNeighborsClassifier\n",
        "KNN=KNeighborsClassifier()"
      ],
      "metadata": {
        "id": "ERYsprMjCLh9"
      },
      "execution_count": 94,
      "outputs": []
    },
    {
      "cell_type": "code",
      "source": [
        "## FINDING VALUE OF K\n",
        "np.sqrt(len(Y_test))"
      ],
      "metadata": {
        "colab": {
          "base_uri": "https://localhost:8080/"
        },
        "id": "9CpgnXLACfYB",
        "outputId": "e8100e61-6dd2-40fb-dd7e-081b305598d6"
      },
      "execution_count": 95,
      "outputs": [
        {
          "output_type": "execute_result",
          "data": {
            "text/plain": [
              "111.16204388189342"
            ]
          },
          "metadata": {},
          "execution_count": 95
        }
      ]
    },
    {
      "cell_type": "code",
      "source": [
        "KNN_model=KNeighborsClassifier(n_neighbors=111,metric=\"euclidean\")"
      ],
      "metadata": {
        "id": "_z4CSu7uCg__"
      },
      "execution_count": 96,
      "outputs": []
    },
    {
      "cell_type": "code",
      "source": [
        "KNN_model.fit(X_train,Y_train)"
      ],
      "metadata": {
        "colab": {
          "base_uri": "https://localhost:8080/"
        },
        "id": "lKkb8uePCjIn",
        "outputId": "6289e33d-62f2-49a5-ea04-d333d997accc"
      },
      "execution_count": 97,
      "outputs": [
        {
          "output_type": "execute_result",
          "data": {
            "text/plain": [
              "KNeighborsClassifier(metric='euclidean', n_neighbors=111)"
            ]
          },
          "metadata": {},
          "execution_count": 97
        }
      ]
    },
    {
      "cell_type": "code",
      "source": [
        "KNN_model_pred=KNN_model.predict(X_test)"
      ],
      "metadata": {
        "id": "d7Mt0cC0ClPQ"
      },
      "execution_count": 98,
      "outputs": []
    },
    {
      "cell_type": "code",
      "source": [
        "print(confusion_matrix(Y_test,KNN_model_pred))"
      ],
      "metadata": {
        "colab": {
          "base_uri": "https://localhost:8080/"
        },
        "id": "sARID90CCnVG",
        "outputId": "c6ea50e7-9ab0-4544-94e1-fa5bddfb17d3"
      },
      "execution_count": 99,
      "outputs": [
        {
          "output_type": "stream",
          "name": "stdout",
          "text": [
            "[[10649   319]\n",
            " [  744   645]]\n"
          ]
        }
      ]
    },
    {
      "cell_type": "code",
      "source": [
        "print(\"Accuracy score for KNN:\",accuracy_score(Y_test,KNN_model_pred))"
      ],
      "metadata": {
        "colab": {
          "base_uri": "https://localhost:8080/"
        },
        "id": "Qr1ZoA71Cp6B",
        "outputId": "352ea474-5e45-483b-c680-fd044108d85e"
      },
      "execution_count": 100,
      "outputs": [
        {
          "output_type": "stream",
          "name": "stdout",
          "text": [
            "Accuracy score for KNN: 0.9139758841142672\n"
          ]
        }
      ]
    },
    {
      "cell_type": "code",
      "source": [
        "#@title 5)SVC MODEL\n"
      ],
      "metadata": {
        "id": "oFqh_AewCrn8"
      },
      "execution_count": 101,
      "outputs": []
    },
    {
      "cell_type": "code",
      "source": [
        "from sklearn.svm import SVC\n",
        "svc=SVC()"
      ],
      "metadata": {
        "id": "A1nx01ZsC25Q"
      },
      "execution_count": 102,
      "outputs": []
    },
    {
      "cell_type": "code",
      "source": [
        "svc.fit(X_train,Y_train)"
      ],
      "metadata": {
        "colab": {
          "base_uri": "https://localhost:8080/"
        },
        "id": "SxP2DjabC4ZE",
        "outputId": "7a71d18a-e263-49ad-b0cd-6677f5f218a9"
      },
      "execution_count": 103,
      "outputs": [
        {
          "output_type": "execute_result",
          "data": {
            "text/plain": [
              "SVC()"
            ]
          },
          "metadata": {},
          "execution_count": 103
        }
      ]
    },
    {
      "cell_type": "code",
      "source": [
        "svc_pred=svc.predict(X_test)"
      ],
      "metadata": {
        "id": "lZnZkSVSC5vS"
      },
      "execution_count": 104,
      "outputs": []
    },
    {
      "cell_type": "code",
      "source": [
        "print(confusion_matrix(Y_test,svc_pred))"
      ],
      "metadata": {
        "colab": {
          "base_uri": "https://localhost:8080/"
        },
        "id": "x1gJoeMjC7BP",
        "outputId": "6510df72-e5d2-45e0-9cdf-6b575969c618"
      },
      "execution_count": 105,
      "outputs": [
        {
          "output_type": "stream",
          "name": "stdout",
          "text": [
            "[[10785   183]\n",
            " [ 1089   300]]\n"
          ]
        }
      ]
    },
    {
      "cell_type": "code",
      "source": [
        "print(\"Accuracy score for SVC:\",accuracy_score(Y_test,svc_pred))"
      ],
      "metadata": {
        "colab": {
          "base_uri": "https://localhost:8080/"
        },
        "id": "hPhWkgD-C9Bu",
        "outputId": "068869b0-27d9-4d48-cf32-c877f72f51c7"
      },
      "execution_count": 106,
      "outputs": [
        {
          "output_type": "stream",
          "name": "stdout",
          "text": [
            "Accuracy score for SVC: 0.8970623937848993\n"
          ]
        }
      ]
    },
    {
      "cell_type": "code",
      "source": [
        "MODELS=list([LR,ABM,NB,KNN,svc])"
      ],
      "metadata": {
        "id": "QTNKBw7bC-WI"
      },
      "execution_count": 107,
      "outputs": []
    },
    {
      "cell_type": "code",
      "source": [
        "ACCURACY=list([accuracy_score(Y_test,LR_pred),accuracy_score(Y_test,ABM_pred),accuracy_score(Y_test,NB_pred),accuracy_score(Y_test,KNN_model_pred),accuracy_score(Y_test,svc_pred)])\n"
      ],
      "metadata": {
        "id": "vZu2EdluC_u1"
      },
      "execution_count": 108,
      "outputs": []
    },
    {
      "cell_type": "code",
      "source": [
        "MODEL=pd.DataFrame({\n",
        "    \"MODEL\" :MODELS,\n",
        "    \"ACCURACY\":ACCURACY\n",
        "})\n",
        "print(MODEL)"
      ],
      "metadata": {
        "colab": {
          "base_uri": "https://localhost:8080/"
        },
        "id": "yF7F7VBZDCp2",
        "outputId": "c051de7b-ad51-43ea-b710-5c8162ef4929"
      },
      "execution_count": 109,
      "outputs": [
        {
          "output_type": "stream",
          "name": "stdout",
          "text": [
            "                                               MODEL  ACCURACY\n",
            "0                               LogisticRegression()  0.910901\n",
            "1  (DecisionTreeClassifier(max_depth=1, random_st...  0.887594\n",
            "2                                       GaussianNB()  0.843328\n",
            "3                             KNeighborsClassifier()  0.913976\n",
            "4                                              SVC()  0.897062\n"
          ]
        }
      ]
    },
    {
      "cell_type": "code",
      "source": [],
      "metadata": {
        "id": "xat6o45tDEF_"
      },
      "execution_count": null,
      "outputs": []
    }
  ]
}